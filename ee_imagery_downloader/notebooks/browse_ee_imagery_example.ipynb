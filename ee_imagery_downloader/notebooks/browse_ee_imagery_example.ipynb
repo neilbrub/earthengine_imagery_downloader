{
 "cells": [
  {
   "cell_type": "code",
   "execution_count": 1,
   "metadata": {},
   "outputs": [],
   "source": [
    "import time\n",
    "import ee\n",
    "import geemap\n",
    "\n",
    "import ee_imagery_downloader.utils as utils\n",
    "from ee_imagery_downloader.eeImageryInterface import eeImageryInterface\n",
    "\n",
    "%reload_ext autoreload\n",
    "%autoreload 2"
   ]
  },
  {
   "cell_type": "markdown",
   "metadata": {},
   "source": [
    "## Browse Earth Engine Imagery\n",
    "\n",
    "This notebook demonstrates an interactive environment in which to explore & visualize imagery via `eeImageryInterface`.\n"
   ]
  },
  {
   "cell_type": "markdown",
   "metadata": {},
   "source": [
    "### Configuration"
   ]
  },
  {
   "cell_type": "code",
   "execution_count": 2,
   "metadata": {},
   "outputs": [],
   "source": [
    "roi = 'example_sanikiluaq'  # refer to image_filtering_configs\n",
    "\n",
    "vis_start_date = \"2020-03-02\"\n",
    "vis_end_date = \"2020-03-05\"\n",
    "\n",
    "# Following the collection_filters, we want to visualize EW HH-HV S1 imagery\n",
    "# (stored in a nested dict by eeImageryInterface) and un-grouped S2 imagery.\n",
    "vis_imagery_query = {\n",
    "    'S1': {\n",
    "        'nested_keys': ['EW', 'HH-HV'],\n",
    "        'vis_params': {\n",
    "            'min':-40,\n",
    "            'max':-5,\n",
    "            'gamma':0.5,\n",
    "            'bands': ['HH']\n",
    "        }\n",
    "    },\n",
    "    'S2': {\n",
    "        'nested_keys': [],\n",
    "        'vis_params': {\n",
    "            'min': 0,\n",
    "            'max': 10000,\n",
    "            'gamma':0.77,\n",
    "            'bands': ['B4', 'B3', 'B2']  # Visible\n",
    "            # 'bands': ['B8', 'B4', 'B2']  # NIR\n",
    "        }\n",
    "    }\n",
    "}"
   ]
  },
  {
   "cell_type": "code",
   "execution_count": 3,
   "metadata": {},
   "outputs": [
    {
     "name": "stdout",
     "output_type": "stream",
     "text": [
      "eeImageryInterface for example_sanikiluaq;\n",
      "> Imagery loaded for seasons: 2020, 2022\n",
      "> Structure of self.imagery (keyed by season):\n",
      "{'S1': {'EW': {'HH-HV': <ee.imagecollection.ImageCollection object at 0x0000024533ED0C70>},\n",
      "        'IW': {'VV': <ee.imagecollection.ImageCollection object at 0x0000024533ED0FD0>}},\n",
      " 'S2': <ee.imagecollection.ImageCollection object at 0x0000024533FA48E0>}\n"
     ]
    }
   ],
   "source": [
    "# Load imagery\n",
    "interface = eeImageryInterface(roi)\n",
    "print(interface)"
   ]
  },
  {
   "cell_type": "code",
   "execution_count": 4,
   "metadata": {},
   "outputs": [
    {
     "name": "stdout",
     "output_type": "stream",
     "text": [
      "Mosaicking S1 by hour/EW/HH-HV\n",
      "Mosaicking S2 by hour\n"
     ]
    }
   ],
   "source": [
    "def collToList(item, accumulator):\n",
    "    return ee.List(accumulator).add(item)\n",
    "\n",
    "def addCollectionToMap(coll_name, collection, Map, vis_params):\n",
    "    collection_list = ee.List(collection.iterate(collToList, ee.List([])))\n",
    "    for i in range(collection_list.length().getInfo()):\n",
    "        image = ee.Image(collection_list.get(i))\n",
    "        datetime = image.date().format('MMM dd HH:mm').getInfo()\n",
    "        Map.addLayer(image, vis_params, f\"{coll_name}_{datetime}\")\n",
    "\n",
    "# Create interactive map\n",
    "roi_center_coords = utils.latlnFromPolygon(interface.ee_roi)\n",
    "Map = geemap.Map(center=roi_center_coords, zoom=8)\n",
    "\n",
    "# Retrieve & show imagery\n",
    "filter_date_start = ee.Date(vis_start_date)\n",
    "filter_date_end = ee.Date(vis_end_date)\n",
    "\n",
    "for coll, cfg in vis_imagery_query.items():\n",
    "    get_s = time.time()\n",
    "    imagery = interface.getImagery(\n",
    "        coll,\n",
    "        nested_keys=cfg['nested_keys'],\n",
    "        date_query = {\n",
    "            'start': vis_start_date,\n",
    "            'end': vis_end_date\n",
    "        },\n",
    "        mosaic_window='hour'  # Note that this can significantly slow down computation!\n",
    "    )\n",
    "    vis_params = cfg['vis_params']\n",
    "    addCollectionToMap(coll, imagery, Map, vis_params)\n"
   ]
  },
  {
   "cell_type": "code",
   "execution_count": 5,
   "metadata": {},
   "outputs": [
    {
     "data": {
      "application/vnd.jupyter.widget-view+json": {
       "model_id": "55d33f829c9241339ee4776bc3bb0fd2",
       "version_major": 2,
       "version_minor": 0
      },
      "text/plain": [
       "Map(center=[56.2535289621146, -79.35250000000006], controls=(WidgetControl(options=['position', 'transparent_b…"
      ]
     },
     "execution_count": 5,
     "metadata": {},
     "output_type": "execute_result"
    }
   ],
   "source": [
    "# Show the map\n",
    "Map"
   ]
  }
 ],
 "metadata": {
  "kernelspec": {
   "display_name": "ee_imagery_downloader",
   "language": "python",
   "name": "python3"
  },
  "language_info": {
   "codemirror_mode": {
    "name": "ipython",
    "version": 3
   },
   "file_extension": ".py",
   "mimetype": "text/x-python",
   "name": "python",
   "nbconvert_exporter": "python",
   "pygments_lexer": "ipython3",
   "version": "3.8.17"
  }
 },
 "nbformat": 4,
 "nbformat_minor": 4
}
